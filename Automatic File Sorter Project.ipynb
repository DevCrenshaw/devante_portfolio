{
 "cells": [
  {
   "cell_type": "code",
   "execution_count": 48,
   "id": "b181ca10-04e4-48d4-aace-483703fd79f2",
   "metadata": {},
   "outputs": [],
   "source": [
    "import os, shutil"
   ]
  },
  {
   "cell_type": "code",
   "execution_count": 49,
   "id": "959e8ad4-9686-4a55-88bd-1eda854970e4",
   "metadata": {},
   "outputs": [],
   "source": [
    "path = r'C:\\Users\\Gaming\\Desktop\\Automatic_Sorter\\\\'"
   ]
  },
  {
   "cell_type": "code",
   "execution_count": 50,
   "id": "b2c5b119-15ab-4fed-9119-a654a6b608da",
   "metadata": {},
   "outputs": [
    {
     "data": {
      "text/plain": [
       "['CSV Files',\n",
       " 'CSVFile.csv',\n",
       " 'FakeFile.csv',\n",
       " 'FakeFile.txt',\n",
       " 'Image Files',\n",
       " 'Max.png',\n",
       " 'NewFile.tsv',\n",
       " 'NewFile.txt',\n",
       " 'Rosie.png',\n",
       " 'Text Files']"
      ]
     },
     "execution_count": 50,
     "metadata": {},
     "output_type": "execute_result"
    }
   ],
   "source": [
    "os.listdir(path)"
   ]
  },
  {
   "cell_type": "code",
   "execution_count": 51,
   "id": "e3ed08ce-3409-47dd-bada-00eab1ea06e8",
   "metadata": {},
   "outputs": [],
   "source": [
    "#os.makedirs(os.path.join(path, folder)"
   ]
  },
  {
   "cell_type": "code",
   "execution_count": 56,
   "id": "34c6cc4c-a512-468c-8c16-4bd39293404a",
   "metadata": {},
   "outputs": [],
   "source": [
    "folder_names = ['CSV Files', 'Text Files', 'Image Files']\n",
    "\n",
    "#C:\\Users\\Gaming\\Desktop\\Automatic_Sorter\\Image Files'\n",
    "for folder in folder_names:\n",
    "    if not os.path.exists(path +folder):\n",
    "        os.makedirs(path + folder)"
   ]
  },
  {
   "cell_type": "code",
   "execution_count": 57,
   "id": "1e6909ef-3e7f-42dc-a9fa-dc8ecb4e54ba",
   "metadata": {},
   "outputs": [
    {
     "data": {
      "text/plain": [
       "['CSV Files',\n",
       " 'CSVFile.csv',\n",
       " 'FakeFile.csv',\n",
       " 'FakeFile.txt',\n",
       " 'Image Files',\n",
       " 'Max.png',\n",
       " 'NewFile.tsv',\n",
       " 'NewFile.txt',\n",
       " 'Rosie.png',\n",
       " 'Text Files']"
      ]
     },
     "execution_count": 57,
     "metadata": {},
     "output_type": "execute_result"
    }
   ],
   "source": [
    "os.listdir(path)"
   ]
  },
  {
   "cell_type": "code",
   "execution_count": 58,
   "id": "1e5c7615-c619-4e98-b7ce-be8954b879ad",
   "metadata": {},
   "outputs": [],
   "source": [
    "file_names = os.listdir(path)\n",
    "path = r'C:\\Users\\Gaming\\Desktop\\Automatic_Sorter\\\\'"
   ]
  },
  {
   "cell_type": "code",
   "execution_count": 60,
   "id": "26acc985-8e8e-4d72-931f-21ed95bd06f8",
   "metadata": {},
   "outputs": [],
   "source": [
    "for file in file_names:\n",
    "    if \".csv\" in file and not os.path.exists(path + \"CSV Files\\\\\" + file):\n",
    "        shutil.move(path + file, path + \"CSV Files\\\\\" + file)\n",
    "\n",
    "    elif \".png\" in file and not os.path.exists(path + \"Image Files\\\\\" + file):\n",
    "        shutil.move(path + file, path + \"Image Files\\\\\" + file)\n",
    "\n",
    "    elif \".txt\" in file and not os.path.exists(path + \"Text Files\\\\\" + file):\n",
    "        shutil.move(path + file, path + \"Text Files\\\\\" + file)"
   ]
  },
  {
   "cell_type": "code",
   "execution_count": 61,
   "id": "78af78d7-5f62-4eaf-a6dd-46c490fd2367",
   "metadata": {},
   "outputs": [],
   "source": [
    "path = r'C:\\Users\\Gaming\\Desktop\\Automatic_Sorter\\\\'\n",
    "\n",
    "folder_names = ['CSV Files', 'Text Files', 'Image Files']\n",
    "\n",
    "\n",
    "for folder in folder_names:\n",
    "    if not os.path.exists(path +folder):\n",
    "        os.makedirs(path + folder)\n",
    "\n",
    "file_names = os.listdir(path)\n",
    "\n",
    "for file in file_names:\n",
    "    if \".csv\" in file and not os.path.exists(path + \"CSV Files\\\\\" + file):\n",
    "        shutil.move(path + file, path + \"CSV Files\\\\\" + file)\n",
    "\n",
    "    elif \".png\" in file and not os.path.exists(path + \"Image Files\\\\\" + file):\n",
    "        shutil.move(path + file, path + \"Image Files\\\\\" + file)\n",
    "\n",
    "    elif \".txt\" in file and not os.path.exists(path + \"Text Files\\\\\" + file):\n",
    "        shutil.move(path + file, path + \"Text Files\\\\\" + file)"
   ]
  },
  {
   "cell_type": "code",
   "execution_count": null,
   "id": "922ed371-5a0e-4b2a-a61d-8bd67dbbaba8",
   "metadata": {},
   "outputs": [],
   "source": []
  }
 ],
 "metadata": {
  "kernelspec": {
   "display_name": "Python [conda env:base] *",
   "language": "python",
   "name": "conda-base-py"
  },
  "language_info": {
   "codemirror_mode": {
    "name": "ipython",
    "version": 3
   },
   "file_extension": ".py",
   "mimetype": "text/x-python",
   "name": "python",
   "nbconvert_exporter": "python",
   "pygments_lexer": "ipython3",
   "version": "3.12.7"
  }
 },
 "nbformat": 4,
 "nbformat_minor": 5
}
